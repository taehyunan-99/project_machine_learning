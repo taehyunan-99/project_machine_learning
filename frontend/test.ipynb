{
 "cells": [
  {
   "cell_type": "code",
   "execution_count": 1,
   "id": "b62a0415",
   "metadata": {},
   "outputs": [
    {
     "name": "stdout",
     "output_type": "stream",
     "text": [
      " * Serving Flask app '__main__'\n",
      " * Debug mode: off\n"
     ]
    },
    {
     "name": "stderr",
     "output_type": "stream",
     "text": [
      "WARNING: This is a development server. Do not use it in a production deployment. Use a production WSGI server instead.\n",
      " * Running on all addresses (0.0.0.0)\n",
      " * Running on http://127.0.0.1:5000\n",
      " * Running on http://192.168.201.179:5000\n",
      "Press CTRL+C to quit\n",
      "127.0.0.1 - - [30/Sep/2025 10:48:04] \"GET / HTTP/1.1\" 404 -\n",
      "127.0.0.1 - - [30/Sep/2025 10:48:04] \"GET /favicon.ico HTTP/1.1\" 404 -\n"
     ]
    }
   ],
   "source": [
    "# server.py 예시\n",
    "\n",
    "from flask import Flask, request, jsonify\n",
    "from flask_cors import CORS\n",
    "from PIL import Image\n",
    "import io\n",
    "import time # 시뮬레이션을 위해 추가\n",
    "\n",
    "# --- 실제 YOLO 모델 로딩 및 예측 로직을 여기에 구현해야 합니다 ---\n",
    "# 예: from models import YOLOModel\n",
    "# yolo_model = YOLOModel('/path/to/your/yolo_model.pt')\n",
    "# -----------------------------------------------------------------\n",
    "\n",
    "app = Flask(__name__)\n",
    "CORS(app) # CORS 설정: 프론트엔드와 백엔드 도메인이 다를 때 필요\n",
    "\n",
    "@app.route('/predict', methods=['POST'])\n",
    "def predict():\n",
    "    if 'image' not in request.files:\n",
    "        return jsonify({'error': 'No image file provided'}), 400\n",
    "\n",
    "    file = request.files['image']\n",
    "    if file.filename == '':\n",
    "        return jsonify({'error': 'No selected image file'}), 400\n",
    "\n",
    "    if file:\n",
    "        try:\n",
    "            # 이미지 파일을 Pillow로 열어서 처리 (YOLO 모델에 따라 다름)\n",
    "            image_bytes = file.read()\n",
    "            img = Image.open(io.BytesIO(image_bytes))\n",
    "\n",
    "            # --- 이 부분에 실제 YOLO 모델 예측 로직이 들어갑니다 ---\n",
    "            # 예: results = yolo_model.predict(img)\n",
    "            #     predicted_label = results.label\n",
    "            #     confidence = results.confidence\n",
    "\n",
    "            # 현재는 YOLO 예측을 시뮬레이션\n",
    "            time.sleep(1.5) # 분석 시간 시뮬레이션\n",
    "            predicted_label = \"페트병\" # 임의의 예측 결과\n",
    "            confidence = 0.95 # 임의의 정확도\n",
    "\n",
    "            # 실제 YOLO 모델은 여러 객체를 감지할 수 있으므로,\n",
    "            # 여기서는 가장 확률 높은 하나의 객체만 반환한다고 가정합니다.\n",
    "            \n",
    "            return jsonify({\n",
    "                'label': predicted_label,\n",
    "                'confidence': confidence,\n",
    "                'timestamp': time.time()\n",
    "            })\n",
    "\n",
    "        except Exception as e:\n",
    "            print(f\"Error during prediction: {e}\")\n",
    "            return jsonify({'error': 'Prediction failed', 'details': str(e)}), 500\n",
    "\n",
    "    return jsonify({'error': 'Unknown error'}), 500\n",
    "\n",
    "if __name__ == '__main__':\n",
    "    # Flask 서버 실행\n",
    "    # debug=True는 개발용이며, 실제 서비스에서는 False로 설정해야 합니다.\n",
    "    app.run(host='0.0.0.0', port=5000, debug=False)"
   ]
  }
 ],
 "metadata": {
  "kernelspec": {
   "display_name": "m_l_preject",
   "language": "python",
   "name": "python3"
  },
  "language_info": {
   "codemirror_mode": {
    "name": "ipython",
    "version": 3
   },
   "file_extension": ".py",
   "mimetype": "text/x-python",
   "name": "python",
   "nbconvert_exporter": "python",
   "pygments_lexer": "ipython3",
   "version": "3.12.11"
  }
 },
 "nbformat": 4,
 "nbformat_minor": 5
}
